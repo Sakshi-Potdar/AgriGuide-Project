{
 "cells": [
  {
   "cell_type": "code",
   "execution_count": 1,
   "id": "b114e5c3",
   "metadata": {},
   "outputs": [],
   "source": [
    "import os\n",
    "import pandas as pd\n",
    "import tensorflow as tf\n",
    "from tensorflow.keras.preprocessing.image import ImageDataGenerator\n",
    "from tensorflow.keras.models import Sequential\n",
    "from tensorflow.keras.layers import Conv2D, MaxPooling2D, Flatten, Dense\n"
   ]
  },
  {
   "cell_type": "markdown",
   "id": "06be70af",
   "metadata": {},
   "source": [
    "### Loading the data"
   ]
  },
  {
   "cell_type": "code",
   "execution_count": 2,
   "id": "54c5a24a",
   "metadata": {},
   "outputs": [],
   "source": [
    "\n",
    "# Define constants\n",
    "train_dir = 'Potato/train/'\n",
    "test_dir = 'Potato/test/'\n",
    "batch_size = 32\n",
    "num_classes = 3\n",
    "input_shape = (250, 250, 3)  # Adjust according to your image dimensions\n",
    "\n",
    "# Function to filter images based on extensions\n",
    "def filter_images_by_extension(directory):\n",
    "    valid_extensions = ['.jpg', '.jpeg', '.png']\n",
    "    image_files = []\n",
    "    for root, _, files in os.walk(directory):\n",
    "        for file in files:\n",
    "            if any(file.lower().endswith(ext) for ext in valid_extensions):\n",
    "                image_files.append(os.path.join(root, file))\n",
    "    return image_files\n",
    "\n",
    "# Filter image files\n",
    "train_image_files = filter_images_by_extension(train_dir)\n",
    "test_image_files = filter_images_by_extension(test_dir)\n"
   ]
  },
  {
   "cell_type": "code",
   "execution_count": 3,
   "id": "6eb00da9",
   "metadata": {},
   "outputs": [
    {
     "name": "stdout",
     "output_type": "stream",
     "text": [
      "Found 5702 validated image filenames belonging to 3 classes.\n",
      "Found 1426 validated image filenames belonging to 3 classes.\n"
     ]
    }
   ],
   "source": [
    "\n",
    "# Create DataFrame for training and testing\n",
    "train_df = pd.DataFrame({\n",
    "    'filename': train_image_files,\n",
    "    'class': [os.path.basename(os.path.dirname(path)) for path in train_image_files]\n",
    "})\n",
    "\n",
    "test_df = pd.DataFrame({\n",
    "    'filename': test_image_files,\n",
    "    'class': [os.path.basename(os.path.dirname(path)) for path in test_image_files]\n",
    "})\n",
    "\n",
    "# Data augmentation and normalization for training\n",
    "train_datagen = ImageDataGenerator(\n",
    "    rescale=1./255,\n",
    "    shear_range=0.2,\n",
    "    zoom_range=0.2,\n",
    "    horizontal_flip=True)\n",
    "\n",
    "# Normalization for testing\n",
    "test_datagen = ImageDataGenerator(rescale=1./255)\n",
    "\n",
    "# Generating batches of training and testing data\n",
    "train_generator = train_datagen.flow_from_dataframe(\n",
    "    train_df,\n",
    "    x_col='filename',\n",
    "    y_col='class',\n",
    "    target_size=(input_shape[0], input_shape[1]),\n",
    "    batch_size=batch_size,\n",
    "    class_mode='categorical')\n",
    "\n",
    "test_generator = test_datagen.flow_from_dataframe(\n",
    "    test_df,\n",
    "    x_col='filename',\n",
    "    y_col='class',\n",
    "    target_size=(input_shape[0], input_shape[1]),\n",
    "    batch_size=batch_size,\n",
    "    class_mode='categorical')\n"
   ]
  },
  {
   "cell_type": "markdown",
   "id": "5ac53f8f",
   "metadata": {},
   "source": [
    "### Training the model"
   ]
  },
  {
   "cell_type": "code",
   "execution_count": 4,
   "id": "9f9e502c",
   "metadata": {},
   "outputs": [
    {
     "name": "stdout",
     "output_type": "stream",
     "text": [
      "Epoch 1/10\n",
      "179/179 [==============================] - 138s 766ms/step - loss: 0.5499 - accuracy: 0.7799 - val_loss: 0.1910 - val_accuracy: 0.9264\n",
      "Epoch 2/10\n",
      "179/179 [==============================] - 160s 892ms/step - loss: 0.1674 - accuracy: 0.9372 - val_loss: 0.2143 - val_accuracy: 0.9257\n",
      "Epoch 3/10\n",
      "179/179 [==============================] - 172s 957ms/step - loss: 0.1003 - accuracy: 0.9640 - val_loss: 0.2737 - val_accuracy: 0.9067\n",
      "Epoch 4/10\n",
      "179/179 [==============================] - 177s 985ms/step - loss: 0.0777 - accuracy: 0.9712 - val_loss: 0.0964 - val_accuracy: 0.9656\n",
      "Epoch 5/10\n",
      "179/179 [==============================] - 169s 941ms/step - loss: 0.0694 - accuracy: 0.9740 - val_loss: 0.3095 - val_accuracy: 0.9039\n",
      "Epoch 6/10\n",
      "179/179 [==============================] - 175s 974ms/step - loss: 0.0887 - accuracy: 0.9684 - val_loss: 0.0751 - val_accuracy: 0.9705\n",
      "Epoch 7/10\n",
      "179/179 [==============================] - 170s 951ms/step - loss: 0.0426 - accuracy: 0.9837 - val_loss: 0.3300 - val_accuracy: 0.9194\n",
      "Epoch 8/10\n",
      "179/179 [==============================] - 172s 958ms/step - loss: 0.0683 - accuracy: 0.9737 - val_loss: 0.1298 - val_accuracy: 0.9579\n",
      "Epoch 9/10\n",
      "179/179 [==============================] - 171s 953ms/step - loss: 0.0415 - accuracy: 0.9854 - val_loss: 0.0696 - val_accuracy: 0.9811\n",
      "Epoch 10/10\n",
      "179/179 [==============================] - 174s 968ms/step - loss: 0.0490 - accuracy: 0.9804 - val_loss: 0.0528 - val_accuracy: 0.9853\n"
     ]
    },
    {
     "data": {
      "text/plain": [
       "<keras.src.callbacks.History at 0x16327d790>"
      ]
     },
     "execution_count": 4,
     "metadata": {},
     "output_type": "execute_result"
    }
   ],
   "source": [
    "\n",
    "# Define the model\n",
    "model = Sequential([\n",
    "    Conv2D(32, (3, 3), activation='relu', input_shape=input_shape),\n",
    "    MaxPooling2D((2, 2)),\n",
    "    Conv2D(64, (3, 3), activation='relu'),\n",
    "    MaxPooling2D((2, 2)),\n",
    "    Conv2D(128, (3, 3), activation='relu'),\n",
    "    MaxPooling2D((2, 2)),\n",
    "    Flatten(),\n",
    "    Dense(128, activation='relu'),\n",
    "    Dense(num_classes, activation='softmax')\n",
    "])\n",
    "\n",
    "# Compile the model\n",
    "model.compile(optimizer='adam',\n",
    "              loss='categorical_crossentropy',\n",
    "              metrics=['accuracy'])\n",
    "\n",
    "# Train the model\n",
    "model.fit(train_generator, epochs=10, validation_data=test_generator)\n",
    "\n"
   ]
  },
  {
   "cell_type": "code",
   "execution_count": 5,
   "id": "8e44479c",
   "metadata": {},
   "outputs": [
    {
     "name": "stdout",
     "output_type": "stream",
     "text": [
      "45/45 [==============================] - 12s 259ms/step - loss: 0.0528 - accuracy: 0.9853\n",
      "Test accuracy: 0.9852734804153442\n"
     ]
    }
   ],
   "source": [
    "# Evaluate the model\n",
    "test_loss, test_acc = model.evaluate(test_generator)\n",
    "print('Test accuracy:', test_acc)"
   ]
  },
  {
   "cell_type": "code",
   "execution_count": 6,
   "id": "74cb187c",
   "metadata": {},
   "outputs": [],
   "source": [
    "import matplotlib.pyplot as plt\n",
    "import cv2"
   ]
  },
  {
   "cell_type": "markdown",
   "id": "5e2c8803",
   "metadata": {},
   "source": [
    "### Saving the Model"
   ]
  },
  {
   "cell_type": "code",
   "execution_count": 7,
   "id": "4b9dfade",
   "metadata": {},
   "outputs": [
    {
     "name": "stdout",
     "output_type": "stream",
     "text": [
      "INFO:tensorflow:Assets written to: /var/folders/wc/4vhbxzyn749cv5d6p5s6nw100000gp/T/tmpyofu4wyg/assets\n"
     ]
    },
    {
     "name": "stderr",
     "output_type": "stream",
     "text": [
      "INFO:tensorflow:Assets written to: /var/folders/wc/4vhbxzyn749cv5d6p5s6nw100000gp/T/tmpyofu4wyg/assets\n",
      "2024-04-19 15:46:49.501106: W tensorflow/compiler/mlir/lite/python/tf_tfl_flatbuffer_helpers.cc:378] Ignored output_format.\n",
      "2024-04-19 15:46:49.501235: W tensorflow/compiler/mlir/lite/python/tf_tfl_flatbuffer_helpers.cc:381] Ignored drop_control_dependency.\n",
      "2024-04-19 15:46:49.504205: I tensorflow/cc/saved_model/reader.cc:83] Reading SavedModel from: /var/folders/wc/4vhbxzyn749cv5d6p5s6nw100000gp/T/tmpyofu4wyg\n",
      "2024-04-19 15:46:49.505019: I tensorflow/cc/saved_model/reader.cc:51] Reading meta graph with tags { serve }\n",
      "2024-04-19 15:46:49.505024: I tensorflow/cc/saved_model/reader.cc:146] Reading SavedModel debug info (if present) from: /var/folders/wc/4vhbxzyn749cv5d6p5s6nw100000gp/T/tmpyofu4wyg\n",
      "2024-04-19 15:46:49.508145: I tensorflow/compiler/mlir/mlir_graph_optimization_pass.cc:388] MLIR V1 optimization pass is not enabled\n",
      "2024-04-19 15:46:49.508805: I tensorflow/cc/saved_model/loader.cc:233] Restoring SavedModel bundle.\n",
      "2024-04-19 15:46:49.724301: I tensorflow/cc/saved_model/loader.cc:217] Running initialization op on SavedModel bundle at path: /var/folders/wc/4vhbxzyn749cv5d6p5s6nw100000gp/T/tmpyofu4wyg\n",
      "2024-04-19 15:46:49.732834: I tensorflow/cc/saved_model/loader.cc:316] SavedModel load for tags { serve }; Status: success: OK. Took 228629 microseconds.\n",
      "2024-04-19 15:46:49.764036: I tensorflow/compiler/mlir/tensorflow/utils/dump_mlir_util.cc:269] disabling MLIR crash reproducer, set env var `MLIR_CRASH_REPRODUCER_DIRECTORY` to enable.\n",
      "Summary on the non-converted ops:\n",
      "---------------------------------\n",
      " * Accepted dialects: tfl, builtin, func\n",
      " * Non-Converted Ops: 11, Total Ops 24, % non-converted = 45.83 %\n",
      " * 11 ARITH ops\n",
      "\n",
      "- arith.constant:   11 occurrences  (f32: 10, i32: 1)\n",
      "\n",
      "\n",
      "\n",
      "  (f32: 3)\n",
      "  (f32: 2)\n",
      "  (f32: 3)\n",
      "  (f32: 1)\n",
      "  (f32: 1)\n"
     ]
    }
   ],
   "source": [
    "\n",
    "# Convert the model to TensorFlow Lite format\n",
    "converter = tf.lite.TFLiteConverter.from_keras_model(model)\n",
    "tflite_model = converter.convert()\n",
    "\n",
    "# Save the converted model to a file\n",
    "with open('potato_disease.tflite', 'wb') as f:\n",
    "    f.write(tflite_model)\n"
   ]
  },
  {
   "cell_type": "code",
   "execution_count": 8,
   "id": "3e7b7f61",
   "metadata": {},
   "outputs": [
    {
     "name": "stderr",
     "output_type": "stream",
     "text": [
      "/Users/student/anaconda3/lib/python3.11/site-packages/keras/src/engine/training.py:3103: UserWarning: You are saving your model as an HDF5 file via `model.save()`. This file format is considered legacy. We recommend using instead the native Keras format, e.g. `model.save('my_model.keras')`.\n",
      "  saving_api.save_model(\n"
     ]
    }
   ],
   "source": [
    "model.save(\"potato_model.h5\")"
   ]
  },
  {
   "cell_type": "markdown",
   "id": "23017b92",
   "metadata": {},
   "source": [
    "### Predictions"
   ]
  },
  {
   "cell_type": "code",
   "execution_count": 10,
   "id": "dcbc6f5b",
   "metadata": {},
   "outputs": [
    {
     "name": "stdout",
     "output_type": "stream",
     "text": [
      "1/1 [==============================] - 0s 16ms/step\n",
      "Predicted class: Potato___Early_blight\n",
      "Prediction probabilities: [[1. 0. 0.]]\n"
     ]
    }
   ],
   "source": [
    "import numpy as np\n",
    "from tensorflow.keras.preprocessing import image\n",
    "\n",
    "# Load the image you want to predict\n",
    "img_path = 'potato_early.JPG'  # Provide the path to your image\n",
    "img = image.load_img(img_path, target_size=(250, 250))\n",
    "img_array = image.img_to_array(img)\n",
    "img_array = np.expand_dims(img_array, axis=0)  # Add batch dimension\n",
    "img_array /= 255.  # Rescale pixel values to [0, 1]\n",
    "\n",
    "# Make prediction\n",
    "prediction = model.predict(img_array)\n",
    "predicted_class = np.argmax(prediction)\n",
    "\n",
    "# Map predicted class index to class label\n",
    "class_labels = train_generator.class_indices\n",
    "predicted_label = [k for k, v in class_labels.items() if v == predicted_class][0]\n",
    "\n",
    "print(\"Predicted class:\", predicted_label)\n",
    "for i in range(0,3):\n",
    "    prediction[0][i] = np.round((prediction[0][i]),2)\n",
    "print(\"Prediction probabilities:\", prediction)\n"
   ]
  },
  {
   "cell_type": "code",
   "execution_count": 11,
   "id": "294cae83",
   "metadata": {},
   "outputs": [
    {
     "name": "stdout",
     "output_type": "stream",
     "text": [
      "1/1 [==============================] - 0s 15ms/step\n",
      "Predicted class: Potato___healthy\n",
      "Prediction probabilities: [[0. 0. 1.]]\n"
     ]
    }
   ],
   "source": [
    "# Load the image you want to predict\n",
    "img_path = 'potato_healthy.JPG'  # Provide the path to your image\n",
    "img = image.load_img(img_path, target_size=(250, 250))\n",
    "img_array = image.img_to_array(img)\n",
    "img_array = np.expand_dims(img_array, axis=0)  # Add batch dimension\n",
    "img_array /= 255.  # Rescale pixel values to [0, 1]\n",
    "\n",
    "# Make prediction\n",
    "prediction = model.predict(img_array)\n",
    "predicted_class = np.argmax(prediction)\n",
    "\n",
    "# Map predicted class index to class label\n",
    "class_labels = train_generator.class_indices\n",
    "predicted_label = [k for k, v in class_labels.items() if v == predicted_class][0]\n",
    "\n",
    "print(\"Predicted class:\", predicted_label)\n",
    "for i in range(0,3):\n",
    "    prediction[0][i] = np.round((prediction[0][i]),2)\n",
    "print(\"Prediction probabilities:\", prediction)\n"
   ]
  },
  {
   "cell_type": "code",
   "execution_count": 12,
   "id": "88926466",
   "metadata": {},
   "outputs": [
    {
     "name": "stdout",
     "output_type": "stream",
     "text": [
      "1/1 [==============================] - 0s 15ms/step\n",
      "Predicted class: Potato___Late_blight\n",
      "Prediction probabilities: [[0. 1. 0.]]\n"
     ]
    }
   ],
   "source": [
    "# Load the image you want to predict\n",
    "img_path = 'potato_lateb.JPG'  # Provide the path to your image\n",
    "img = image.load_img(img_path, target_size=(250, 250))\n",
    "img_array = image.img_to_array(img)\n",
    "img_array = np.expand_dims(img_array, axis=0)  # Add batch dimension\n",
    "img_array /= 255.  # Rescale pixel values to [0, 1]\n",
    "\n",
    "# Make prediction\n",
    "prediction = model.predict(img_array)\n",
    "predicted_class = np.argmax(prediction)\n",
    "\n",
    "# Map predicted class index to class label\n",
    "class_labels = train_generator.class_indices\n",
    "predicted_label = [k for k, v in class_labels.items() if v == predicted_class][0]\n",
    "\n",
    "print(\"Predicted class:\", predicted_label)\n",
    "for i in range(0,3):\n",
    "    prediction[0][i] = np.round((prediction[0][i]),2)\n",
    "print(\"Prediction probabilities:\", prediction)\n"
   ]
  },
  {
   "cell_type": "code",
   "execution_count": null,
   "id": "d9aa655f",
   "metadata": {},
   "outputs": [],
   "source": []
  }
 ],
 "metadata": {
  "kernelspec": {
   "display_name": "Python 3 (ipykernel)",
   "language": "python",
   "name": "python3"
  },
  "language_info": {
   "codemirror_mode": {
    "name": "ipython",
    "version": 3
   },
   "file_extension": ".py",
   "mimetype": "text/x-python",
   "name": "python",
   "nbconvert_exporter": "python",
   "pygments_lexer": "ipython3",
   "version": "3.11.5"
  }
 },
 "nbformat": 4,
 "nbformat_minor": 5
}
