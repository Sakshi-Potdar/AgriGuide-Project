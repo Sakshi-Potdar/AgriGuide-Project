{
 "cells": [
  {
   "cell_type": "code",
   "execution_count": null,
   "id": "9f9e502c",
   "metadata": {
    "id": "9f9e502c",
    "outputId": "8ce437a2-cf9f-40ed-b558-fa8b045ec39c"
   },
   "outputs": [
    {
     "name": "stdout",
     "output_type": "stream",
     "text": [
      "Found 10000 validated image filenames belonging to 10 classes.\n",
      "Found 1000 validated image filenames belonging to 10 classes.\n",
      "Epoch 1/10\n",
      "313/313 [==============================] - 77s 246ms/step - loss: 1.2588 - accuracy: 0.5516 - val_loss: 1.1172 - val_accuracy: 0.6630\n",
      "Epoch 2/10\n",
      "313/313 [==============================] - 93s 296ms/step - loss: 0.5994 - accuracy: 0.7881 - val_loss: 0.9235 - val_accuracy: 0.7120\n",
      "Epoch 3/10\n",
      "313/313 [==============================] - 96s 305ms/step - loss: 0.4458 - accuracy: 0.8415 - val_loss: 0.5347 - val_accuracy: 0.8250\n",
      "Epoch 4/10\n",
      "313/313 [==============================] - 96s 308ms/step - loss: 0.3512 - accuracy: 0.8750 - val_loss: 0.6124 - val_accuracy: 0.8110\n",
      "Epoch 5/10\n",
      "313/313 [==============================] - 100s 320ms/step - loss: 0.3080 - accuracy: 0.8908 - val_loss: 0.5106 - val_accuracy: 0.8380\n",
      "Epoch 6/10\n",
      "313/313 [==============================] - 100s 320ms/step - loss: 0.2686 - accuracy: 0.9063 - val_loss: 0.5110 - val_accuracy: 0.8560\n",
      "Epoch 7/10\n",
      "313/313 [==============================] - 102s 327ms/step - loss: 0.2416 - accuracy: 0.9179 - val_loss: 0.4918 - val_accuracy: 0.8530\n",
      "Epoch 8/10\n",
      "313/313 [==============================] - 99s 314ms/step - loss: 0.2242 - accuracy: 0.9189 - val_loss: 0.9347 - val_accuracy: 0.7590\n",
      "Epoch 9/10\n",
      "313/313 [==============================] - 107s 341ms/step - loss: 0.1814 - accuracy: 0.9360 - val_loss: 0.6122 - val_accuracy: 0.8270\n",
      "Epoch 10/10\n",
      "313/313 [==============================] - 102s 325ms/step - loss: 0.1839 - accuracy: 0.9377 - val_loss: 0.7217 - val_accuracy: 0.8080\n"
     ]
    },
    {
     "data": {
      "text/plain": [
       "<keras.src.callbacks.History at 0x286b52dd0>"
      ]
     },
     "execution_count": 3,
     "metadata": {},
     "output_type": "execute_result"
    }
   ],
   "source": [
    "import os\n",
    "import pandas as pd\n",
    "import tensorflow as tf\n",
    "from tensorflow.keras.preprocessing.image import ImageDataGenerator\n",
    "from tensorflow.keras.models import Sequential\n",
    "from tensorflow.keras.layers import Conv2D, MaxPooling2D, Flatten, Dense\n",
    "\n",
    "# Define constants\n",
    "train_dir = 'tomato/train/'\n",
    "test_dir = 'tomato/val/'\n",
    "batch_size = 32\n",
    "num_classes = 10\n",
    "input_shape = (150, 150, 3)  # Adjust according to your image dimensions\n",
    "\n",
    "# Function to filter images based on extensions\n",
    "def filter_images_by_extension(directory):\n",
    "    valid_extensions = ['.jpg', '.jpeg', '.png']\n",
    "    image_files = []\n",
    "    for root, _, files in os.walk(directory):\n",
    "        for file in files:\n",
    "            if any(file.lower().endswith(ext) for ext in valid_extensions):\n",
    "                image_files.append(os.path.join(root, file))\n",
    "    return image_files\n",
    "\n",
    "# Filter image files\n",
    "train_image_files = filter_images_by_extension(train_dir)\n",
    "test_image_files = filter_images_by_extension(test_dir)\n",
    "\n",
    "# Create DataFrame for training and testing\n",
    "train_df = pd.DataFrame({\n",
    "    'filename': train_image_files,\n",
    "    'class': [os.path.basename(os.path.dirname(path)) for path in train_image_files]\n",
    "})\n",
    "\n",
    "test_df = pd.DataFrame({\n",
    "    'filename': test_image_files,\n",
    "    'class': [os.path.basename(os.path.dirname(path)) for path in test_image_files]\n",
    "})\n",
    "\n",
    "# Data augmentation and normalization for training\n",
    "train_datagen = ImageDataGenerator(\n",
    "    rescale=1./255,\n",
    "    shear_range=0.2,\n",
    "    zoom_range=0.2,\n",
    "    horizontal_flip=True)\n",
    "\n",
    "# Normalization for testing\n",
    "test_datagen = ImageDataGenerator(rescale=1./255)\n",
    "\n",
    "# Generating batches of training and testing data\n",
    "train_generator = train_datagen.flow_from_dataframe(\n",
    "    train_df,\n",
    "    x_col='filename',\n",
    "    y_col='class',\n",
    "    target_size=(input_shape[0], input_shape[1]),\n",
    "    batch_size=batch_size,\n",
    "    class_mode='categorical')\n",
    "\n",
    "test_generator = test_datagen.flow_from_dataframe(\n",
    "    test_df,\n",
    "    x_col='filename',\n",
    "    y_col='class',\n",
    "    target_size=(input_shape[0], input_shape[1]),\n",
    "    batch_size=batch_size,\n",
    "    class_mode='categorical')\n",
    "\n",
    "# Define the model\n",
    "model = Sequential([\n",
    "    Conv2D(32, (3, 3), activation='relu', input_shape=input_shape),\n",
    "    MaxPooling2D((2, 2)),\n",
    "    Conv2D(64, (3, 3), activation='relu'),\n",
    "    MaxPooling2D((2, 2)),\n",
    "    Conv2D(128, (3, 3), activation='relu'),\n",
    "    MaxPooling2D((2, 2)),\n",
    "    Flatten(),\n",
    "    Dense(128, activation='relu'),\n",
    "    Dense(num_classes, activation='softmax')\n",
    "])\n",
    "\n",
    "# Compile the model\n",
    "model.compile(optimizer='adam',\n",
    "              loss='categorical_crossentropy',\n",
    "              metrics=['accuracy'])\n",
    "\n",
    "# Train the model\n",
    "model.fit(train_generator, epochs=10, validation_data=test_generator)\n",
    "\n"
   ]
  },
  {
   "cell_type": "code",
   "execution_count": null,
   "id": "8e44479c",
   "metadata": {
    "id": "8e44479c",
    "outputId": "b82646a6-4acf-4167-d42e-502a83cc1205"
   },
   "outputs": [
    {
     "name": "stdout",
     "output_type": "stream",
     "text": [
      "32/32 [==============================] - 2s 60ms/step - loss: 0.7217 - accuracy: 0.8080\n",
      "Test accuracy: 0.8080000281333923\n"
     ]
    }
   ],
   "source": [
    "\n",
    "# Evaluate the model\n",
    "test_loss, test_acc = model.evaluate(test_generator)\n",
    "print('Test accuracy:', test_acc)"
   ]
  },
  {
   "cell_type": "code",
   "execution_count": null,
   "id": "74cb187c",
   "metadata": {
    "id": "74cb187c"
   },
   "outputs": [],
   "source": [
    "import matplotlib.pyplot as plt\n",
    "import cv2"
   ]
  },
  {
   "cell_type": "code",
   "execution_count": null,
   "id": "1ed178c0",
   "metadata": {
    "id": "1ed178c0",
    "outputId": "686480e6-9798-40b9-df6f-4f35a20e145a"
   },
   "outputs": [
    {
     "name": "stdout",
     "output_type": "stream",
     "text": [
      "1/1 [==============================] - 0s 19ms/step\n",
      "Predicted class: Tomato___Leaf_Mold\n",
      "Prediction probabilities: [[0.   0.   0.   0.99 0.   0.   0.   0.   0.01 0.  ]]\n"
     ]
    }
   ],
   "source": [
    "import numpy as np\n",
    "from tensorflow.keras.preprocessing import image\n",
    "\n",
    "# Load the image you want to predict\n",
    "img_path = 'leafmold.JPG'  # Provide the path to your image\n",
    "img = image.load_img(img_path, target_size=(150, 150))\n",
    "img_array = image.img_to_array(img)\n",
    "img_array = np.expand_dims(img_array, axis=0)  # Add batch dimension\n",
    "img_array /= 255.  # Rescale pixel values to [0, 1]\n",
    "\n",
    "# Make prediction\n",
    "prediction = model.predict(img_array)\n",
    "predicted_class = np.argmax(prediction)\n",
    "\n",
    "# Map predicted class index to class label\n",
    "class_labels = train_generator.class_indices\n",
    "predicted_label = [k for k, v in class_labels.items() if v == predicted_class][0]\n",
    "\n",
    "print(\"Predicted class:\", predicted_label)\n",
    "for i in range(0,10):\n",
    "    prediction[0][i] = np.round((prediction[0][i]),2)\n",
    "print(\"Prediction probabilities:\", prediction)\n"
   ]
  },
  {
   "cell_type": "code",
   "execution_count": null,
   "id": "00acbbbf",
   "metadata": {
    "id": "00acbbbf",
    "outputId": "487c43b2-6b23-4971-d05c-6e664b4d9256"
   },
   "outputs": [
    {
     "name": "stdout",
     "output_type": "stream",
     "text": [
      "INFO:tensorflow:Assets written to: /var/folders/wc/4vhbxzyn749cv5d6p5s6nw100000gp/T/tmp1o0dqosz/assets\n"
     ]
    },
    {
     "name": "stderr",
     "output_type": "stream",
     "text": [
      "INFO:tensorflow:Assets written to: /var/folders/wc/4vhbxzyn749cv5d6p5s6nw100000gp/T/tmp1o0dqosz/assets\n",
      "2024-04-04 15:42:58.941670: W tensorflow/compiler/mlir/lite/python/tf_tfl_flatbuffer_helpers.cc:378] Ignored output_format.\n",
      "2024-04-04 15:42:58.941681: W tensorflow/compiler/mlir/lite/python/tf_tfl_flatbuffer_helpers.cc:381] Ignored drop_control_dependency.\n",
      "2024-04-04 15:42:58.941885: I tensorflow/cc/saved_model/reader.cc:83] Reading SavedModel from: /var/folders/wc/4vhbxzyn749cv5d6p5s6nw100000gp/T/tmp1o0dqosz\n",
      "2024-04-04 15:42:58.942604: I tensorflow/cc/saved_model/reader.cc:51] Reading meta graph with tags { serve }\n",
      "2024-04-04 15:42:58.942608: I tensorflow/cc/saved_model/reader.cc:146] Reading SavedModel debug info (if present) from: /var/folders/wc/4vhbxzyn749cv5d6p5s6nw100000gp/T/tmp1o0dqosz\n",
      "2024-04-04 15:42:58.943922: I tensorflow/compiler/mlir/mlir_graph_optimization_pass.cc:388] MLIR V1 optimization pass is not enabled\n",
      "2024-04-04 15:42:58.944493: I tensorflow/cc/saved_model/loader.cc:233] Restoring SavedModel bundle.\n",
      "2024-04-04 15:42:59.027674: I tensorflow/cc/saved_model/loader.cc:217] Running initialization op on SavedModel bundle at path: /var/folders/wc/4vhbxzyn749cv5d6p5s6nw100000gp/T/tmp1o0dqosz\n",
      "2024-04-04 15:42:59.035364: I tensorflow/cc/saved_model/loader.cc:316] SavedModel load for tags { serve }; Status: success: OK. Took 93479 microseconds.\n",
      "2024-04-04 15:42:59.045337: I tensorflow/compiler/mlir/tensorflow/utils/dump_mlir_util.cc:269] disabling MLIR crash reproducer, set env var `MLIR_CRASH_REPRODUCER_DIRECTORY` to enable.\n",
      "Summary on the non-converted ops:\n",
      "---------------------------------\n",
      " * Accepted dialects: tfl, builtin, func\n",
      " * Non-Converted Ops: 11, Total Ops 24, % non-converted = 45.83 %\n",
      " * 11 ARITH ops\n",
      "\n",
      "- arith.constant:   11 occurrences  (f32: 10, i32: 1)\n",
      "\n",
      "\n",
      "\n",
      "  (f32: 3)\n",
      "  (f32: 2)\n",
      "  (f32: 3)\n",
      "  (f32: 1)\n",
      "  (f32: 1)\n"
     ]
    }
   ],
   "source": [
    "\n",
    "# Convert the model to TensorFlow Lite format\n",
    "converter = tf.lite.TFLiteConverter.from_keras_model(model)\n",
    "tflite_model = converter.convert()\n",
    "\n",
    "# Save the converted model to a file\n",
    "with open('disease.tflite', 'wb') as f:\n",
    "    f.write(tflite_model)\n"
   ]
  },
  {
   "cell_type": "code",
   "execution_count": null,
   "id": "3e7b7f61",
   "metadata": {
    "id": "3e7b7f61"
   },
   "outputs": [],
   "source": []
  }
 ],
 "metadata": {
  "colab": {
   "provenance": []
  },
  "kernelspec": {
   "display_name": "Python 3",
   "language": "python",
   "name": "python3"
  },
  "language_info": {
   "codemirror_mode": {
    "name": "ipython",
    "version": 3
   },
   "file_extension": ".py",
   "mimetype": "text/x-python",
   "name": "python",
   "nbconvert_exporter": "python",
   "pygments_lexer": "ipython3",
   "version": "3.8.8"
  }
 },
 "nbformat": 4,
 "nbformat_minor": 5
}
