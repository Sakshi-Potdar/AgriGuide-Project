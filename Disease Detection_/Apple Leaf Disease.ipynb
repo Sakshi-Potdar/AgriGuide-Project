{
 "cells": [
  {
   "cell_type": "code",
   "execution_count": 1,
   "id": "b114e5c3",
   "metadata": {},
   "outputs": [],
   "source": [
    "import os\n",
    "import pandas as pd\n",
    "import tensorflow as tf\n",
    "from tensorflow.keras.preprocessing.image import ImageDataGenerator\n",
    "from tensorflow.keras.models import Sequential\n",
    "from tensorflow.keras.layers import Conv2D, MaxPooling2D, Flatten, Dense\n"
   ]
  },
  {
   "cell_type": "markdown",
   "id": "06be70af",
   "metadata": {},
   "source": [
    "### Loading the data"
   ]
  },
  {
   "cell_type": "code",
   "execution_count": 2,
   "id": "54c5a24a",
   "metadata": {},
   "outputs": [],
   "source": [
    "\n",
    "# Define constants\n",
    "train_dir = 'Apple/train/'\n",
    "test_dir = 'Apple/test/'\n",
    "batch_size = 32\n",
    "num_classes = 4\n",
    "input_shape = (250, 250, 3)  # Adjust according to your image dimensions\n",
    "\n",
    "# Function to filter images based on extensions\n",
    "def filter_images_by_extension(directory):\n",
    "    valid_extensions = ['.jpg', '.jpeg', '.png']\n",
    "    image_files = []\n",
    "    for root, _, files in os.walk(directory):\n",
    "        for file in files:\n",
    "            if any(file.lower().endswith(ext) for ext in valid_extensions):\n",
    "                image_files.append(os.path.join(root, file))\n",
    "    return image_files\n",
    "\n",
    "# Filter image files\n",
    "train_image_files = filter_images_by_extension(train_dir)\n",
    "test_image_files = filter_images_by_extension(test_dir)\n"
   ]
  },
  {
   "cell_type": "code",
   "execution_count": 3,
   "id": "6eb00da9",
   "metadata": {},
   "outputs": [
    {
     "name": "stdout",
     "output_type": "stream",
     "text": [
      "Found 7771 validated image filenames belonging to 4 classes.\n",
      "Found 1943 validated image filenames belonging to 4 classes.\n"
     ]
    }
   ],
   "source": [
    "\n",
    "# Create DataFrame for training and testing\n",
    "train_df = pd.DataFrame({\n",
    "    'filename': train_image_files,\n",
    "    'class': [os.path.basename(os.path.dirname(path)) for path in train_image_files]\n",
    "})\n",
    "\n",
    "test_df = pd.DataFrame({\n",
    "    'filename': test_image_files,\n",
    "    'class': [os.path.basename(os.path.dirname(path)) for path in test_image_files]\n",
    "})\n",
    "\n",
    "# Data augmentation and normalization for training\n",
    "train_datagen = ImageDataGenerator(\n",
    "    rescale=1./255,\n",
    "    shear_range=0.2,\n",
    "    zoom_range=0.2,\n",
    "    horizontal_flip=True)\n",
    "\n",
    "# Normalization for testing\n",
    "test_datagen = ImageDataGenerator(rescale=1./255)\n",
    "\n",
    "# Generating batches of training and testing data\n",
    "train_generator = train_datagen.flow_from_dataframe(\n",
    "    train_df,\n",
    "    x_col='filename',\n",
    "    y_col='class',\n",
    "    target_size=(input_shape[0], input_shape[1]),\n",
    "    batch_size=batch_size,\n",
    "    class_mode='categorical')\n",
    "\n",
    "test_generator = test_datagen.flow_from_dataframe(\n",
    "    test_df,\n",
    "    x_col='filename',\n",
    "    y_col='class',\n",
    "    target_size=(input_shape[0], input_shape[1]),\n",
    "    batch_size=batch_size,\n",
    "    class_mode='categorical')\n"
   ]
  },
  {
   "cell_type": "markdown",
   "id": "5ac53f8f",
   "metadata": {},
   "source": [
    "### Training the model"
   ]
  },
  {
   "cell_type": "code",
   "execution_count": 4,
   "id": "9f9e502c",
   "metadata": {},
   "outputs": [
    {
     "name": "stdout",
     "output_type": "stream",
     "text": [
      "Epoch 1/10\n",
      "243/243 [==============================] - 195s 801ms/step - loss: 0.6001 - accuracy: 0.7679 - val_loss: 0.3821 - val_accuracy: 0.8791\n",
      "Epoch 2/10\n",
      "243/243 [==============================] - 232s 953ms/step - loss: 0.2374 - accuracy: 0.9133 - val_loss: 0.2832 - val_accuracy: 0.8991\n",
      "Epoch 3/10\n",
      "243/243 [==============================] - 232s 952ms/step - loss: 0.1699 - accuracy: 0.9380 - val_loss: 0.2771 - val_accuracy: 0.9007\n",
      "Epoch 4/10\n",
      "243/243 [==============================] - 246s 1s/step - loss: 0.1307 - accuracy: 0.9535 - val_loss: 0.4538 - val_accuracy: 0.8765\n",
      "Epoch 5/10\n",
      "243/243 [==============================] - 230s 945ms/step - loss: 0.1443 - accuracy: 0.9476 - val_loss: 0.1719 - val_accuracy: 0.9434\n",
      "Epoch 6/10\n",
      "243/243 [==============================] - 237s 975ms/step - loss: 0.0887 - accuracy: 0.9686 - val_loss: 0.1613 - val_accuracy: 0.9578\n",
      "Epoch 7/10\n",
      "243/243 [==============================] - 238s 981ms/step - loss: 0.0869 - accuracy: 0.9707 - val_loss: 0.0854 - val_accuracy: 0.9707\n",
      "Epoch 8/10\n",
      "243/243 [==============================] - 235s 967ms/step - loss: 0.0568 - accuracy: 0.9783 - val_loss: 0.0825 - val_accuracy: 0.9748\n",
      "Epoch 9/10\n",
      "243/243 [==============================] - 236s 970ms/step - loss: 0.0581 - accuracy: 0.9776 - val_loss: 0.1204 - val_accuracy: 0.9578\n",
      "Epoch 10/10\n",
      "243/243 [==============================] - 252s 1s/step - loss: 0.0584 - accuracy: 0.9798 - val_loss: 0.2075 - val_accuracy: 0.9388\n"
     ]
    },
    {
     "data": {
      "text/plain": [
       "<keras.src.callbacks.History at 0x141da9190>"
      ]
     },
     "execution_count": 4,
     "metadata": {},
     "output_type": "execute_result"
    }
   ],
   "source": [
    "\n",
    "# Define the model\n",
    "model = Sequential([\n",
    "    Conv2D(32, (3, 3), activation='relu', input_shape=input_shape),\n",
    "    MaxPooling2D((2, 2)),\n",
    "    Conv2D(64, (3, 3), activation='relu'),\n",
    "    MaxPooling2D((2, 2)),\n",
    "    Conv2D(128, (3, 3), activation='relu'),\n",
    "    MaxPooling2D((2, 2)),\n",
    "    Flatten(),\n",
    "    Dense(128, activation='relu'),\n",
    "    Dense(num_classes, activation='softmax')\n",
    "])\n",
    "\n",
    "# Compile the model\n",
    "model.compile(optimizer='adam',\n",
    "              loss='categorical_crossentropy',\n",
    "              metrics=['accuracy'])\n",
    "\n",
    "# Train the model\n",
    "model.fit(train_generator, epochs=10, validation_data=test_generator)\n",
    "\n"
   ]
  },
  {
   "cell_type": "code",
   "execution_count": 5,
   "id": "8e44479c",
   "metadata": {},
   "outputs": [
    {
     "name": "stdout",
     "output_type": "stream",
     "text": [
      "61/61 [==============================] - 19s 305ms/step - loss: 0.2075 - accuracy: 0.9388\n",
      "Test accuracy: 0.9387544989585876\n"
     ]
    }
   ],
   "source": [
    "# Evaluate the model\n",
    "test_loss, test_acc = model.evaluate(test_generator)\n",
    "print('Test accuracy:', test_acc)"
   ]
  },
  {
   "cell_type": "code",
   "execution_count": 6,
   "id": "74cb187c",
   "metadata": {},
   "outputs": [],
   "source": [
    "import matplotlib.pyplot as plt\n",
    "import cv2"
   ]
  },
  {
   "cell_type": "markdown",
   "id": "5e2c8803",
   "metadata": {},
   "source": [
    "### Saving the Model"
   ]
  },
  {
   "cell_type": "code",
   "execution_count": 7,
   "id": "4b9dfade",
   "metadata": {},
   "outputs": [
    {
     "name": "stdout",
     "output_type": "stream",
     "text": [
      "INFO:tensorflow:Assets written to: /var/folders/wc/4vhbxzyn749cv5d6p5s6nw100000gp/T/tmpr655p7nb/assets\n"
     ]
    },
    {
     "name": "stderr",
     "output_type": "stream",
     "text": [
      "INFO:tensorflow:Assets written to: /var/folders/wc/4vhbxzyn749cv5d6p5s6nw100000gp/T/tmpr655p7nb/assets\n",
      "2024-04-23 14:24:24.531418: W tensorflow/compiler/mlir/lite/python/tf_tfl_flatbuffer_helpers.cc:378] Ignored output_format.\n",
      "2024-04-23 14:24:24.531434: W tensorflow/compiler/mlir/lite/python/tf_tfl_flatbuffer_helpers.cc:381] Ignored drop_control_dependency.\n",
      "2024-04-23 14:24:24.533499: I tensorflow/cc/saved_model/reader.cc:83] Reading SavedModel from: /var/folders/wc/4vhbxzyn749cv5d6p5s6nw100000gp/T/tmpr655p7nb\n",
      "2024-04-23 14:24:24.534526: I tensorflow/cc/saved_model/reader.cc:51] Reading meta graph with tags { serve }\n",
      "2024-04-23 14:24:24.534533: I tensorflow/cc/saved_model/reader.cc:146] Reading SavedModel debug info (if present) from: /var/folders/wc/4vhbxzyn749cv5d6p5s6nw100000gp/T/tmpr655p7nb\n",
      "2024-04-23 14:24:24.536852: I tensorflow/compiler/mlir/mlir_graph_optimization_pass.cc:388] MLIR V1 optimization pass is not enabled\n",
      "2024-04-23 14:24:24.537729: I tensorflow/cc/saved_model/loader.cc:233] Restoring SavedModel bundle.\n",
      "2024-04-23 14:24:24.773904: I tensorflow/cc/saved_model/loader.cc:217] Running initialization op on SavedModel bundle at path: /var/folders/wc/4vhbxzyn749cv5d6p5s6nw100000gp/T/tmpr655p7nb\n",
      "2024-04-23 14:24:24.782511: I tensorflow/cc/saved_model/loader.cc:316] SavedModel load for tags { serve }; Status: success: OK. Took 249013 microseconds.\n",
      "2024-04-23 14:24:24.812367: I tensorflow/compiler/mlir/tensorflow/utils/dump_mlir_util.cc:269] disabling MLIR crash reproducer, set env var `MLIR_CRASH_REPRODUCER_DIRECTORY` to enable.\n",
      "Summary on the non-converted ops:\n",
      "---------------------------------\n",
      " * Accepted dialects: tfl, builtin, func\n",
      " * Non-Converted Ops: 11, Total Ops 24, % non-converted = 45.83 %\n",
      " * 11 ARITH ops\n",
      "\n",
      "- arith.constant:   11 occurrences  (f32: 10, i32: 1)\n",
      "\n",
      "\n",
      "\n",
      "  (f32: 3)\n",
      "  (f32: 2)\n",
      "  (f32: 3)\n",
      "  (f32: 1)\n",
      "  (f32: 1)\n"
     ]
    }
   ],
   "source": [
    "\n",
    "# Convert the model to TensorFlow Lite format\n",
    "converter = tf.lite.TFLiteConverter.from_keras_model(model)\n",
    "tflite_model = converter.convert()\n",
    "\n",
    "# Save the converted model to a file\n",
    "with open('apple_disease.tflite', 'wb') as f:\n",
    "    f.write(tflite_model)\n"
   ]
  },
  {
   "cell_type": "code",
   "execution_count": 8,
   "id": "3e7b7f61",
   "metadata": {},
   "outputs": [
    {
     "name": "stderr",
     "output_type": "stream",
     "text": [
      "/Users/student/anaconda3/lib/python3.11/site-packages/keras/src/engine/training.py:3103: UserWarning: You are saving your model as an HDF5 file via `model.save()`. This file format is considered legacy. We recommend using instead the native Keras format, e.g. `model.save('my_model.keras')`.\n",
      "  saving_api.save_model(\n"
     ]
    }
   ],
   "source": [
    "model.save(\"apple_model.h5\")"
   ]
  },
  {
   "cell_type": "markdown",
   "id": "23017b92",
   "metadata": {},
   "source": [
    "### Predictions"
   ]
  },
  {
   "cell_type": "code",
   "execution_count": 9,
   "id": "80bba3e9",
   "metadata": {},
   "outputs": [
    {
     "name": "stdout",
     "output_type": "stream",
     "text": [
      "1/1 [==============================] - 0s 74ms/step\n",
      "Predicted class: Apple___Cedar_apple_rust\n",
      "Prediction probabilities: [[0.000000e+00 0.000000e+00 1.000000e+00 2.144929e-12]]\n"
     ]
    }
   ],
   "source": [
    "import numpy as np\n",
    "from tensorflow.keras.preprocessing import image\n",
    "\n",
    "# Load the image you want to predict\n",
    "img_path = 'apple_cedar.JPG'  # Provide the path to your image\n",
    "img = image.load_img(img_path, target_size=(250, 250))\n",
    "img_array = image.img_to_array(img)\n",
    "img_array = np.expand_dims(img_array, axis=0)  # Add batch dimension\n",
    "img_array /= 255.  # Rescale pixel values to [0, 1]\n",
    "\n",
    "# Make prediction\n",
    "prediction = model.predict(img_array)\n",
    "predicted_class = np.argmax(prediction)\n",
    "\n",
    "# Map predicted class index to class label\n",
    "class_labels = train_generator.class_indices\n",
    "predicted_label = [k for k, v in class_labels.items() if v == predicted_class][0]\n",
    "\n",
    "print(\"Predicted class:\", predicted_label)\n",
    "for i in range(0,3):\n",
    "    prediction[0][i] = np.round((prediction[0][i]),2)\n",
    "print(\"Prediction probabilities:\", prediction)\n"
   ]
  },
  {
   "cell_type": "code",
   "execution_count": 10,
   "id": "38cc8f35",
   "metadata": {},
   "outputs": [
    {
     "name": "stdout",
     "output_type": "stream",
     "text": [
      "1/1 [==============================] - 0s 27ms/step\n",
      "Predicted class: Apple___Black_rot\n",
      "Prediction probabilities: [[0.0000000e+00 1.0000000e+00 0.0000000e+00 2.0443305e-04]]\n"
     ]
    }
   ],
   "source": [
    "# Load the image you want to predict\n",
    "img_path = 'apple_blackrot.JPG'  # Provide the path to your image\n",
    "img = image.load_img(img_path, target_size=(250, 250))\n",
    "img_array = image.img_to_array(img)\n",
    "img_array = np.expand_dims(img_array, axis=0)  # Add batch dimension\n",
    "img_array /= 255.  # Rescale pixel values to [0, 1]\n",
    "\n",
    "# Make prediction\n",
    "prediction = model.predict(img_array)\n",
    "predicted_class = np.argmax(prediction)\n",
    "\n",
    "# Map predicted class index to class label\n",
    "class_labels = train_generator.class_indices\n",
    "predicted_label = [k for k, v in class_labels.items() if v == predicted_class][0]\n",
    "\n",
    "print(\"Predicted class:\", predicted_label)\n",
    "for i in range(0,3):\n",
    "    prediction[0][i] = np.round((prediction[0][i]),2)\n",
    "print(\"Prediction probabilities:\", prediction)\n"
   ]
  },
  {
   "cell_type": "code",
   "execution_count": 11,
   "id": "8ed0df23",
   "metadata": {},
   "outputs": [
    {
     "name": "stdout",
     "output_type": "stream",
     "text": [
      "1/1 [==============================] - 0s 25ms/step\n",
      "Predicted class: Apple___Apple_scab\n",
      "Prediction probabilities: [[1.0000000e+00 0.0000000e+00 0.0000000e+00 4.8882697e-07]]\n"
     ]
    }
   ],
   "source": [
    "# Load the image you want to predict\n",
    "img_path = 'apple_scab.JPG'  # Provide the path to your image\n",
    "img = image.load_img(img_path, target_size=(250, 250))\n",
    "img_array = image.img_to_array(img)\n",
    "img_array = np.expand_dims(img_array, axis=0)  # Add batch dimension\n",
    "img_array /= 255.  # Rescale pixel values to [0, 1]\n",
    "\n",
    "# Make prediction\n",
    "prediction = model.predict(img_array)\n",
    "predicted_class = np.argmax(prediction)\n",
    "\n",
    "# Map predicted class index to class label\n",
    "class_labels = train_generator.class_indices\n",
    "predicted_label = [k for k, v in class_labels.items() if v == predicted_class][0]\n",
    "\n",
    "print(\"Predicted class:\", predicted_label)\n",
    "for i in range(0,3):\n",
    "    prediction[0][i] = np.round((prediction[0][i]),2)\n",
    "print(\"Prediction probabilities:\", prediction)\n"
   ]
  },
  {
   "cell_type": "code",
   "execution_count": null,
   "id": "d9aa655f",
   "metadata": {},
   "outputs": [],
   "source": []
  }
 ],
 "metadata": {
  "kernelspec": {
   "display_name": "Python 3",
   "language": "python",
   "name": "python3"
  },
  "language_info": {
   "codemirror_mode": {
    "name": "ipython",
    "version": 3
   },
   "file_extension": ".py",
   "mimetype": "text/x-python",
   "name": "python",
   "nbconvert_exporter": "python",
   "pygments_lexer": "ipython3",
   "version": "3.8.8"
  }
 },
 "nbformat": 4,
 "nbformat_minor": 5
}
